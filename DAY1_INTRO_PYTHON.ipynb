{
 "cells": [
  {
   "cell_type": "code",
   "execution_count": 8,
   "metadata": {},
   "outputs": [
    {
     "name": "stdout",
     "output_type": "stream",
     "text": [
      "[8, 2, 3, 4, 5, 6, 7]\n"
     ]
    }
   ],
   "source": [
    "a = [1,2,3,4,5,6,7]\n",
    "a[0]=8\n",
    "print(a)"
   ]
  },
  {
   "cell_type": "code",
   "execution_count": 33,
   "metadata": {},
   "outputs": [
    {
     "name": "stdout",
     "output_type": "stream",
     "text": [
      "('python', 'anaconda', 'cobra', ('a', 'b'))\n"
     ]
    }
   ],
   "source": [
    "toufle = (\"python\",\"anaconda\", \"cobra\",(\"a\",\"b\"))\n",
    "print(toufle)"
   ]
  },
  {
   "cell_type": "code",
   "execution_count": 16,
   "metadata": {},
   "outputs": [
    {
     "name": "stdout",
     "output_type": "stream",
     "text": [
      "python\n"
     ]
    }
   ],
   "source": [
    "s1,s2,s3 = toufle\n",
    "print(s1)"
   ]
  },
  {
   "cell_type": "code",
   "execution_count": 35,
   "metadata": {},
   "outputs": [
    {
     "name": "stdout",
     "output_type": "stream",
     "text": [
      "python anaconda cobra [('a', 'b')]\n"
     ]
    }
   ],
   "source": [
    "h1, h2, h3, *h4 = toufle\n",
    "print(h1, h2, h3, h4)"
   ]
  },
  {
   "cell_type": "code",
   "execution_count": 44,
   "metadata": {},
   "outputs": [
    {
     "name": "stdout",
     "output_type": "stream",
     "text": [
      "{'Bahasa': ('python', 'anaconda', 'cobra', ('a', 'b')), 'Tools': [8, 2, 3, 4, 5, 6, 7]}\n",
      "Key Not Found\n",
      "dict_items([('Bahasa', ('python', 'anaconda', 'cobra', ('a', 'b'))), ('Tools', [8, 2, 3, 4, 5, 6, 7])])\n"
     ]
    }
   ],
   "source": [
    "dict = {\n",
    "    \"Bahasa\": toufle,\n",
    "    \"Tools\": a\n",
    "}\n",
    "print(dict)\n",
    "\n",
    "# pengganti jika key nya not found\n",
    "print(dict.get(\"Key\", \"Key Not Found\"))\n",
    "\n",
    "# items\n",
    "print(dict.items())"
   ]
  },
  {
   "cell_type": "code",
   "execution_count": null,
   "metadata": {},
   "outputs": [],
   "source": []
  }
 ],
 "metadata": {
  "kernelspec": {
   "display_name": "Python 3",
   "language": "python",
   "name": "python3"
  },
  "language_info": {
   "codemirror_mode": {
    "name": "ipython",
    "version": 3
   },
   "file_extension": ".py",
   "mimetype": "text/x-python",
   "name": "python",
   "nbconvert_exporter": "python",
   "pygments_lexer": "ipython3",
   "version": "3.8.3"
  }
 },
 "nbformat": 4,
 "nbformat_minor": 4
}
