{
 "cells": [
  {
   "cell_type": "code",
   "execution_count": 4,
   "metadata": {},
   "outputs": [
    {
     "name": "stdout",
     "output_type": "stream",
     "text": [
      "56\n"
     ]
    }
   ],
   "source": [
    "def math(str, int):\n",
    "    \"mathematics\"\n",
    "    print(str * int)\n",
    "    return\n",
    "math(7, 8)"
   ]
  },
  {
   "cell_type": "code",
   "execution_count": 15,
   "metadata": {},
   "outputs": [
    {
     "name": "stdout",
     "output_type": "stream",
     "text": [
      "Hello Student\n",
      "Hai Foo\n",
      "Hai Bar\n",
      "Hai Baz\n",
      "Hello Teacher\n",
      "Hai Foo\n",
      "Hai Bar\n",
      "Hai Baz\n"
     ]
    }
   ],
   "source": [
    "def say_hello(str):\n",
    "    \"say hello student\"\n",
    "    students = [\"Foo\", \"Bar\", \"Baz\"]\n",
    "    print(f\"{str}\")\n",
    "    for student in students:\n",
    "        print(\"Hai\", student)\n",
    "    return\n",
    "say_hello(\"Hello Student\")\n",
    "say_hello(str=\"Hello Teacher\")"
   ]
  },
  {
   "cell_type": "code",
   "execution_count": 23,
   "metadata": {},
   "outputs": [
    {
     "name": "stdout",
     "output_type": "stream",
     "text": [
      "Hello ('Foo', 'Bar', 'Baz')\n"
     ]
    }
   ],
   "source": [
    "def get_all_data(str, *students):\n",
    "    for i in students:\n",
    "        print(str, i)\n",
    "    return\n",
    "get_all_data(\"Hello\", (\"Foo\", \"Bar\", \"Baz\"))"
   ]
  },
  {
   "cell_type": "code",
   "execution_count": 43,
   "metadata": {},
   "outputs": [
    {
     "name": "stdout",
     "output_type": "stream",
     "text": [
      "120\n"
     ]
    }
   ],
   "source": [
    "total = 10\n",
    "def coba_aritmatik(a, b):\n",
    "    x=10\n",
    "    linear = (a*x) + b\n",
    "    linear = linear + total\n",
    "    return linear\n",
    "print(coba_aritmatik(10,10))"
   ]
  },
  {
   "cell_type": "code",
   "execution_count": 1,
   "metadata": {},
   "outputs": [
    {
     "name": "stdout",
     "output_type": "stream",
     "text": [
      "0\n",
      "1\n",
      "2\n",
      "3\n"
     ]
    },
    {
     "data": {
      "text/plain": [
       "441"
      ]
     },
     "execution_count": 1,
     "metadata": {},
     "output_type": "execute_result"
    }
   ],
   "source": [
    "import model\n",
    "model.say_hello_student()\n",
    "model.compute_paramete(10,11,12)"
   ]
  },
  {
   "cell_type": "code",
   "execution_count": 2,
   "metadata": {},
   "outputs": [
    {
     "data": {
      "text/plain": [
       "['D:\\\\Python\\\\notebook',\n",
       " 'D:\\\\Python\\\\anaconda3\\\\python38.zip',\n",
       " 'D:\\\\Python\\\\anaconda3\\\\DLLs',\n",
       " 'D:\\\\Python\\\\anaconda3\\\\lib',\n",
       " 'D:\\\\Python\\\\anaconda3',\n",
       " '',\n",
       " 'C:\\\\Users\\\\BRI\\\\AppData\\\\Roaming\\\\Python\\\\Python38\\\\site-packages',\n",
       " 'D:\\\\Python\\\\anaconda3\\\\lib\\\\site-packages',\n",
       " 'D:\\\\Python\\\\anaconda3\\\\lib\\\\site-packages\\\\win32',\n",
       " 'D:\\\\Python\\\\anaconda3\\\\lib\\\\site-packages\\\\win32\\\\lib',\n",
       " 'D:\\\\Python\\\\anaconda3\\\\lib\\\\site-packages\\\\Pythonwin',\n",
       " 'D:\\\\Python\\\\anaconda3\\\\lib\\\\site-packages\\\\IPython\\\\extensions',\n",
       " 'C:\\\\Users\\\\BRI\\\\.ipython']"
      ]
     },
     "execution_count": 2,
     "metadata": {},
     "output_type": "execute_result"
    }
   ],
   "source": [
    "import sys\n",
    "sys.path"
   ]
  },
  {
   "cell_type": "code",
   "execution_count": 1,
   "metadata": {},
   "outputs": [],
   "source": [
    "import numpy\n",
    "import pandas"
   ]
  },
  {
   "cell_type": "code",
   "execution_count": 5,
   "metadata": {},
   "outputs": [
    {
     "data": {
      "text/plain": [
       "2"
      ]
     },
     "execution_count": 5,
     "metadata": {},
     "output_type": "execute_result"
    }
   ],
   "source": [
    "def upercase_count(string):\n",
    "    num_upper=0\n",
    "    for char in string:\n",
    "        if not char.isupper():\n",
    "            continue\n",
    "        num_upper += 1\n",
    "    return num_upper\n",
    "upercase_count(\"CoBa\")"
   ]
  },
  {
   "cell_type": "code",
   "execution_count": null,
   "metadata": {},
   "outputs": [],
   "source": []
  }
 ],
 "metadata": {
  "kernelspec": {
   "display_name": "Python 3",
   "language": "python",
   "name": "python3"
  },
  "language_info": {
   "codemirror_mode": {
    "name": "ipython",
    "version": 3
   },
   "file_extension": ".py",
   "mimetype": "text/x-python",
   "name": "python",
   "nbconvert_exporter": "python",
   "pygments_lexer": "ipython3",
   "version": "3.8.3"
  }
 },
 "nbformat": 4,
 "nbformat_minor": 4
}
