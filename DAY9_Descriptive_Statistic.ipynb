{
 "cells": [
  {
   "cell_type": "code",
   "execution_count": 3,
   "metadata": {},
   "outputs": [],
   "source": [
    "import math\n",
    "import statistics\n",
    "\n",
    "import numpy as np\n",
    "import scipy\n",
    "import scipy.stats\n",
    "import pandas as pd"
   ]
  },
  {
   "cell_type": "code",
   "execution_count": 2,
   "metadata": {},
   "outputs": [
    {
     "name": "stdout",
     "output_type": "stream",
     "text": [
      "[8.0, 1, 2.5, 4, 28.0]\n",
      "[8.0, 1, 2.5, nan, 4, 28.0]\n"
     ]
    }
   ],
   "source": [
    "x = [8., 1, 2.5, 4, 28.]\n",
    "x_with_nan = [8., 1, 2.5, math.nan, 4, 28.]\n",
    "print(x)\n",
    "print(x_with_nan)"
   ]
  },
  {
   "cell_type": "code",
   "execution_count": 8,
   "metadata": {},
   "outputs": [
    {
     "name": "stdout",
     "output_type": "stream",
     "text": [
      "[ 8.   1.   2.5  4.  28. ]\n",
      "[ 8.   1.   2.5  nan  4.  28. ]\n"
     ]
    }
   ],
   "source": [
    "y, y_with_nan = np.array(x), np.array(x_with_nan)\n",
    "print(y)\n",
    "print(y_with_nan)"
   ]
  },
  {
   "cell_type": "code",
   "execution_count": 6,
   "metadata": {},
   "outputs": [
    {
     "name": "stdout",
     "output_type": "stream",
     "text": [
      "0     8.0\n",
      "1     1.0\n",
      "2     2.5\n",
      "3     4.0\n",
      "4    28.0\n",
      "dtype: float64\n",
      "0     8.0\n",
      "1     1.0\n",
      "2     2.5\n",
      "3     NaN\n",
      "4     4.0\n",
      "5    28.0\n",
      "dtype: float64\n"
     ]
    }
   ],
   "source": [
    "z, z_with_nan = pd.Series(x), pd.Series(x_with_nan)\n",
    "print(z)\n",
    "print(z_with_nan)"
   ]
  },
  {
   "cell_type": "code",
   "execution_count": 10,
   "metadata": {},
   "outputs": [
    {
     "name": "stdout",
     "output_type": "stream",
     "text": [
      "8.7\n",
      "Mean Statistic :  8.7\n"
     ]
    }
   ],
   "source": [
    "mean_ = sum(x) / len(x)\n",
    "print(mean_)\n",
    "mean_stats = statistics.mean(x)\n",
    "print(\"Mean Statistic : \", mean_stats)"
   ]
  },
  {
   "cell_type": "code",
   "execution_count": 11,
   "metadata": {},
   "outputs": [
    {
     "name": "stdout",
     "output_type": "stream",
     "text": [
      "nan\n"
     ]
    }
   ],
   "source": [
    "mean_with_nan_native = sum(x_with_nan) / len(x_with_nan)\n",
    "print(mean_with_nan_native)"
   ]
  },
  {
   "cell_type": "code",
   "execution_count": 12,
   "metadata": {},
   "outputs": [
    {
     "name": "stdout",
     "output_type": "stream",
     "text": [
      "nan\n"
     ]
    }
   ],
   "source": [
    "mean_with_nan_stats = statistics.mean(x_with_nan)\n",
    "print(mean_with_nan_stats)"
   ]
  },
  {
   "cell_type": "code",
   "execution_count": 14,
   "metadata": {},
   "outputs": [
    {
     "name": "stdout",
     "output_type": "stream",
     "text": [
      "8.7\n"
     ]
    }
   ],
   "source": [
    "mean_with_np = np.mean(y)\n",
    "print(mean_with_np)"
   ]
  },
  {
   "cell_type": "code",
   "execution_count": 18,
   "metadata": {},
   "outputs": [
    {
     "name": "stdout",
     "output_type": "stream",
     "text": [
      "8.7\n"
     ]
    }
   ],
   "source": [
    "mean_ignoring_nan_np = np.nanmean(x_with_nan)\n",
    "print(mean_ignoring_nan_np)"
   ]
  },
  {
   "cell_type": "code",
   "execution_count": 20,
   "metadata": {},
   "outputs": [
    {
     "data": {
      "text/plain": [
       "8.7"
      ]
     },
     "execution_count": 20,
     "metadata": {},
     "output_type": "execute_result"
    }
   ],
   "source": [
    "z.mean()"
   ]
  },
  {
   "cell_type": "code",
   "execution_count": 21,
   "metadata": {},
   "outputs": [
    {
     "data": {
      "text/plain": [
       "4.8"
      ]
     },
     "execution_count": 21,
     "metadata": {},
     "output_type": "execute_result"
    }
   ],
   "source": [
    "0.2 * 2 + 0.5 * 4 + 0.3 * 8"
   ]
  },
  {
   "cell_type": "code",
   "execution_count": 22,
   "metadata": {},
   "outputs": [
    {
     "name": "stdout",
     "output_type": "stream",
     "text": [
      "[2, 2, 4, 4, 4, 4, 4, 8, 8] 9\n",
      "4.444444444444445\n"
     ]
    }
   ],
   "source": [
    "arr = [2, 2, 4, 4, 4, 4, 4, 8, 8]\n",
    "print(arr, len(arr))\n",
    "print(np.mean(arr))"
   ]
  },
  {
   "cell_type": "code",
   "execution_count": 27,
   "metadata": {},
   "outputs": [
    {
     "name": "stdout",
     "output_type": "stream",
     "text": [
      "weightmean :  9.26751592356688\n"
     ]
    }
   ],
   "source": [
    "arr_x = [8.0, 1, 2.5, 4, 10]\n",
    "arr_w = [0.1, 0.2, 0.3, 0.25, 7]\n",
    "print(\n",
    "    \"weightmean : \",\n",
    "    sum(w*x for x, w in zip(arr_x, arr_w)) / sum(arr_w)\n",
    ")"
   ]
  },
  {
   "cell_type": "code",
   "execution_count": 28,
   "metadata": {},
   "outputs": [
    {
     "data": {
      "text/plain": [
       "9.26751592356688"
      ]
     },
     "execution_count": 28,
     "metadata": {},
     "output_type": "execute_result"
    }
   ],
   "source": [
    "np_x, np_w = np.array(arr_x), np.array(arr_w)\n",
    "np.average(np_x, weights=np_w)"
   ]
  },
  {
   "cell_type": "code",
   "execution_count": 29,
   "metadata": {},
   "outputs": [
    {
     "name": "stdout",
     "output_type": "stream",
     "text": [
      "[8.0, 1, 2.5, 4, 28.0, 100]\n"
     ]
    }
   ],
   "source": [
    "x += [100]\n",
    "print(x)"
   ]
  },
  {
   "cell_type": "code",
   "execution_count": 30,
   "metadata": {},
   "outputs": [
    {
     "name": "stdout",
     "output_type": "stream",
     "text": [
      "23.916666666666668\n"
     ]
    }
   ],
   "source": [
    "print(sum(x) / len(x))"
   ]
  },
  {
   "cell_type": "code",
   "execution_count": 32,
   "metadata": {},
   "outputs": [
    {
     "name": "stdout",
     "output_type": "stream",
     "text": [
      "3.2954099646920363\n"
     ]
    }
   ],
   "source": [
    "print(len(x) / sum(1 / i for i in x))"
   ]
  },
  {
   "cell_type": "code",
   "execution_count": 33,
   "metadata": {},
   "outputs": [
    {
     "data": {
      "text/plain": [
       "3.2954099646920363"
      ]
     },
     "execution_count": 33,
     "metadata": {},
     "output_type": "execute_result"
    }
   ],
   "source": [
    "scipy.stats.hmean(x)"
   ]
  },
  {
   "cell_type": "code",
   "execution_count": 35,
   "metadata": {},
   "outputs": [
    {
     "name": "stdout",
     "output_type": "stream",
     "text": [
      "7.793059696775923\n",
      "7.7930596967759245\n"
     ]
    }
   ],
   "source": [
    "gmean = 1\n",
    "\n",
    "for item in x:\n",
    "    gmean *= item\n",
    "\n",
    "gmean = gmean**(1/len(x))\n",
    "print(gmean)\n",
    "print(scipy.stats.gmean(x))"
   ]
  },
  {
   "cell_type": "code",
   "execution_count": 37,
   "metadata": {},
   "outputs": [
    {
     "name": "stdout",
     "output_type": "stream",
     "text": [
      "[8.0, 1, 2.5, 4, 28.0, 100] 6 [1, 2.5, 4, 8.0, 28.0, 100]\n",
      "6.0\n"
     ]
    }
   ],
   "source": [
    "print(x, len(x), sorted(x))\n",
    "print(np.median(x))"
   ]
  },
  {
   "cell_type": "code",
   "execution_count": 40,
   "metadata": {},
   "outputs": [
    {
     "name": "stdout",
     "output_type": "stream",
     "text": [
      "median native: 6.0\n"
     ]
    }
   ],
   "source": [
    "if len(x) %2:\n",
    "    med = sorted(x)[round(0.5*(len(x)-1))]\n",
    "else:\n",
    "    ordered_x, index = sorted(x), round(0.5 *len(x))\n",
    "    med = 0.5 * (ordered_x[index-1]+ ordered_x[index])\n",
    "print('median native:', med)"
   ]
  },
  {
   "cell_type": "code",
   "execution_count": 41,
   "metadata": {},
   "outputs": [
    {
     "data": {
      "text/plain": [
       "(6.0, 8.0, 4)"
      ]
     },
     "execution_count": 41,
     "metadata": {},
     "output_type": "execute_result"
    }
   ],
   "source": [
    "statistics.median(x), statistics.median_high(x), statistics.median_low(x)"
   ]
  },
  {
   "cell_type": "code",
   "execution_count": 45,
   "metadata": {},
   "outputs": [
    {
     "data": {
      "text/plain": [
       "6.0"
      ]
     },
     "execution_count": 45,
     "metadata": {},
     "output_type": "execute_result"
    }
   ],
   "source": [
    "sorted(x_with_nan),\n",
    "statistics.median(x_with_nan)"
   ]
  },
  {
   "cell_type": "code",
   "execution_count": 46,
   "metadata": {},
   "outputs": [
    {
     "name": "stdout",
     "output_type": "stream",
     "text": [
      "0     8.0\n",
      "1     1.0\n",
      "2     2.5\n",
      "3     4.0\n",
      "4    28.0\n",
      "dtype: float64\n",
      "4.0\n"
     ]
    }
   ],
   "source": [
    "print(z)\n",
    "print(z.median())"
   ]
  },
  {
   "cell_type": "code",
   "execution_count": 51,
   "metadata": {},
   "outputs": [
    {
     "name": "stdout",
     "output_type": "stream",
     "text": [
      "[8.0, 1, 2.5, 4, 28.0, 100]\n",
      "1\n"
     ]
    }
   ],
   "source": [
    "print(x)\n",
    "print(x.count(100))"
   ]
  },
  {
   "cell_type": "code",
   "execution_count": 53,
   "metadata": {},
   "outputs": [
    {
     "name": "stdout",
     "output_type": "stream",
     "text": [
      "ModeResult(mode=array([1.]), count=array([1]))\n"
     ]
    }
   ],
   "source": [
    "mode_ = scipy.stats.mode(x)\n",
    "print(mode_)"
   ]
  },
  {
   "cell_type": "code",
   "execution_count": 54,
   "metadata": {},
   "outputs": [
    {
     "data": {
      "text/plain": [
       "(array([1.]), array([1]))"
      ]
     },
     "execution_count": 54,
     "metadata": {},
     "output_type": "execute_result"
    }
   ],
   "source": [
    "mode_.mode, mode_.count"
   ]
  },
  {
   "cell_type": "code",
   "execution_count": 55,
   "metadata": {},
   "outputs": [
    {
     "name": "stdout",
     "output_type": "stream",
     "text": [
      "0      8.0\n",
      "1      1.0\n",
      "2      2.5\n",
      "3      4.0\n",
      "4     28.0\n",
      "5    100.0\n",
      "dtype: float64\n"
     ]
    }
   ],
   "source": [
    "u = pd.Series(x)\n",
    "print(u)"
   ]
  },
  {
   "cell_type": "code",
   "execution_count": 58,
   "metadata": {},
   "outputs": [
    {
     "name": "stdout",
     "output_type": "stream",
     "text": [
      "0     8.0\n",
      "1     1.0\n",
      "2     2.5\n",
      "3     4.0\n",
      "4    28.0\n",
      "dtype: float64\n",
      "0     1.0\n",
      "1     2.5\n",
      "2     4.0\n",
      "3     8.0\n",
      "4    28.0\n",
      "dtype: float64\n",
      "0      1.0\n",
      "1      2.5\n",
      "2      4.0\n",
      "3      8.0\n",
      "4     28.0\n",
      "5    100.0\n",
      "dtype: float64\n"
     ]
    }
   ],
   "source": [
    "print(z)\n",
    "print(z.mode())\n",
    "print(u.mode())"
   ]
  },
  {
   "cell_type": "code",
   "execution_count": 64,
   "metadata": {},
   "outputs": [
    {
     "name": "stdout",
     "output_type": "stream",
     "text": [
      "[8.0, 1, 2.5, 4, 28.0, 100]\n",
      "2.12597755867213\n",
      "2.1259775586721306\n"
     ]
    }
   ],
   "source": [
    "print(x)\n",
    "n = len(x)\n",
    "mean_x = sum(x)/n\n",
    "variance_x= sum((point-mean_x)**2 for point in x) / (n-1)\n",
    "std_x = variance_x ** 0.5\n",
    "\n",
    "skew_x = (sum((item-mean_x)**3 for item in x) * n / ((n-1) * (n-2) * std_x**3))\n",
    "print(skew_x)\n",
    "print(scipy.stats.skew(x, bias=False))"
   ]
  },
  {
   "cell_type": "code",
   "execution_count": 65,
   "metadata": {},
   "outputs": [
    {
     "data": {
      "text/plain": [
       "1.9470432273905924"
      ]
     },
     "execution_count": 65,
     "metadata": {},
     "output_type": "execute_result"
    }
   ],
   "source": [
    "z.skew()"
   ]
  },
  {
   "cell_type": "code",
   "execution_count": 66,
   "metadata": {},
   "outputs": [
    {
     "name": "stdout",
     "output_type": "stream",
     "text": [
      "[8.0, 1, 2.5, 4, 28.0, 100]\n",
      "[2.125, 6.0, 46.0]\n"
     ]
    }
   ],
   "source": [
    "print(x)\n",
    "print(statistics.quantiles(x))"
   ]
  },
  {
   "cell_type": "code",
   "execution_count": 69,
   "metadata": {},
   "outputs": [
    {
     "name": "stdout",
     "output_type": "stream",
     "text": [
      "[64.     2.875 23.   ]\n"
     ]
    }
   ],
   "source": [
    "print(np.percentile(x, [90, 25, 75]))"
   ]
  },
  {
   "cell_type": "code",
   "execution_count": 73,
   "metadata": {},
   "outputs": [
    {
     "name": "stdout",
     "output_type": "stream",
     "text": [
      "4.0\n",
      "4.0\n"
     ]
    }
   ],
   "source": [
    "print(np.nanpercentile(x_with_nan, 50))\n",
    "print(np.nanquantile(x_with_nan, 0.5))"
   ]
  },
  {
   "cell_type": "code",
   "execution_count": 74,
   "metadata": {},
   "outputs": [
    {
     "name": "stdout",
     "output_type": "stream",
     "text": [
      "-20.125\n"
     ]
    }
   ],
   "source": [
    "quantile_1 = np.quantile(x, .25)\n",
    "quantile_2 = np.quantile(x, .75)\n",
    "print(quantile_1 - quantile_2)"
   ]
  },
  {
   "cell_type": "code",
   "execution_count": null,
   "metadata": {},
   "outputs": [],
   "source": []
  }
 ],
 "metadata": {
  "kernelspec": {
   "display_name": "Python 3",
   "language": "python",
   "name": "python3"
  },
  "language_info": {
   "codemirror_mode": {
    "name": "ipython",
    "version": 3
   },
   "file_extension": ".py",
   "mimetype": "text/x-python",
   "name": "python",
   "nbconvert_exporter": "python",
   "pygments_lexer": "ipython3",
   "version": "3.8.3"
  }
 },
 "nbformat": 4,
 "nbformat_minor": 4
}
