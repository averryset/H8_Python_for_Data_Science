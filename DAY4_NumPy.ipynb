{
 "cells": [
  {
   "cell_type": "code",
   "execution_count": 2,
   "metadata": {},
   "outputs": [
    {
     "name": "stdout",
     "output_type": "stream",
     "text": [
      "Requirement already satisfied: numpy in c:\\users\\bri\\appdata\\roaming\\python\\python38\\site-packages (1.19.2)\n"
     ]
    }
   ],
   "source": [
    "!pip install numpy"
   ]
  },
  {
   "cell_type": "code",
   "execution_count": 7,
   "metadata": {},
   "outputs": [
    {
     "name": "stdout",
     "output_type": "stream",
     "text": [
      "pip 20.2.2 from D:\\Python\\anaconda3\\lib\\site-packages\\pip (python 3.8)\n",
      "\n"
     ]
    }
   ],
   "source": [
    "# !pip list\n",
    "!pip --version"
   ]
  },
  {
   "cell_type": "code",
   "execution_count": 10,
   "metadata": {},
   "outputs": [],
   "source": [
    "import numpy as np"
   ]
  },
  {
   "cell_type": "code",
   "execution_count": 35,
   "metadata": {},
   "outputs": [
    {
     "name": "stdout",
     "output_type": "stream",
     "text": [
      "[[1 2 3 4]\n",
      " [5 6 7 8]]\n",
      "8\n",
      "Type Data : int32\n",
      "Shape : (2, 4)\n",
      "Dimensi : 2\n"
     ]
    }
   ],
   "source": [
    "def array_numpy():\n",
    "    a = np.array([\n",
    "        [1, 2, 3, 4], \n",
    "        [5, 6, 7, 8]\n",
    "    ])\n",
    "    print(a)\n",
    "    print(a[-1][-1])\n",
    "    \"Type data of array\"\n",
    "    print(\"Type Data :\", a.dtype)\n",
    "    \"Shape of array\"\n",
    "    print(\"Shape :\", a.shape)\n",
    "    \"Dimensi of array\"\n",
    "    print(\"Dimensi :\", a.ndim)\n",
    "array_numpy()"
   ]
  },
  {
   "cell_type": "code",
   "execution_count": 42,
   "metadata": {},
   "outputs": [
    {
     "name": "stdout",
     "output_type": "stream",
     "text": [
      "10\n",
      "!--!\n",
      "[0. 0. 0. 0. 0. 0. 0. 0. 0. 0.]\n"
     ]
    }
   ],
   "source": [
    "def array_of_zeros():\n",
    "    print(np.array(10))\n",
    "    print(\"!--!\")\n",
    "    print(np.zeros(10))\n",
    "array_of_zeros()"
   ]
  },
  {
   "cell_type": "code",
   "execution_count": 46,
   "metadata": {},
   "outputs": [
    {
     "name": "stdout",
     "output_type": "stream",
     "text": [
      "[1. 1. 1. 1. 1. 1. 1. 1. 1. 1.]\n"
     ]
    }
   ],
   "source": [
    "def array_of_ones():\n",
    "    print(np.ones(10))\n",
    "array_of_ones()"
   ]
  },
  {
   "cell_type": "code",
   "execution_count": 57,
   "metadata": {},
   "outputs": [
    {
     "name": "stdout",
     "output_type": "stream",
     "text": [
      "[[7.42972961e-312 7.42973729e-312 3.49012913e-319 ... 5.30973833e+180\n",
      "  6.23102918e+228 6.02669591e+175]\n",
      " [1.77942356e+248 9.08366791e+223 1.07031539e-013 ... 2.18953536e+068\n",
      "  3.03426193e-086 1.81786144e+185]\n",
      " [6.68159286e+151 9.47212685e-154 2.16401696e-027 ... 2.54723493e+151\n",
      "  1.97641705e+166 3.18489929e-114]\n",
      " ...\n",
      " [0.00000000e+000 0.00000000e+000 0.00000000e+000 ... 0.00000000e+000\n",
      "  0.00000000e+000 0.00000000e+000]\n",
      " [0.00000000e+000 0.00000000e+000 0.00000000e+000 ... 0.00000000e+000\n",
      "  0.00000000e+000 0.00000000e+000]\n",
      " [0.00000000e+000 0.00000000e+000 0.00000000e+000 ... 0.00000000e+000\n",
      "  0.00000000e+000 0.00000000e+000]]\n"
     ]
    }
   ],
   "source": [
    "def array_of_empty():\n",
    "    print(np.empty((100, 100)))\n",
    "array_of_empty()"
   ]
  },
  {
   "cell_type": "code",
   "execution_count": 64,
   "metadata": {},
   "outputs": [
    {
     "name": "stdout",
     "output_type": "stream",
     "text": [
      "[ 0  1  2  3  4  5  6  7  8  9 10 11 12 13 14 15 16 17 18 19 20 21 22 23\n",
      " 24 25 26 27 28 29 30 31 32 33 34 35 36 37 38 39 40 41 42 43 44 45 46 47\n",
      " 48 49 50 51 52 53 54 55 56 57 58 59 60 61 62 63 64 65 66 67 68 69 70 71\n",
      " 72 73 74 75 76 77 78 79 80 81 82 83 84 85 86 87 88 89 90 91 92 93 94 95\n",
      " 96 97 98 99]\n"
     ]
    }
   ],
   "source": [
    "def array_of_arange():\n",
    "    \"start,stop,stop\"\n",
    "    print(np.arange(0, 100, 2))\n",
    "array_of_arange()"
   ]
  },
  {
   "cell_type": "code",
   "execution_count": 87,
   "metadata": {},
   "outputs": [
    {
     "name": "stdout",
     "output_type": "stream",
     "text": [
      "[['Ahmad' 'Verry' 'Setiawan']]\n",
      "(1, 3) (1, 3)\n",
      "['Ahmad' 'Verry' 'Setiawan' '17']\n",
      "[['Ahmad' 'Verry' 'Setiawan']\n",
      " ['17' '11' '94']]\n"
     ]
    }
   ],
   "source": [
    "def array_of_array():\n",
    "    arr_1 = np.array([[\"Ahmad\", \"Verry\", \"Setiawan\"]])\n",
    "    arr_2 = np.array([[17, 11, 94]])\n",
    "    print(arr_1)\n",
    "    \"Append\"\n",
    "    print(arr_1.shape, arr_2.shape)\n",
    "    print(np.append(arr_1, 17))\n",
    "    print(np.append(arr_1, arr_2, axis=0))\n",
    "array_of_array()"
   ]
  },
  {
   "cell_type": "code",
   "execution_count": 85,
   "metadata": {},
   "outputs": [
    {
     "name": "stdout",
     "output_type": "stream",
     "text": [
      "['Ahmad' 'Verry' 'Setiawan' '17' '11' '94']\n",
      "----------\n",
      "['Verry' 'Setiawan' '17' '11' '94']\n"
     ]
    }
   ],
   "source": [
    "def array_of_delete():\n",
    "    arr_1 = np.array([\"Ahmad\", \"Verry\", \"Setiawan\"])\n",
    "    arr_2 = np.array([17, 11, 94])\n",
    "    \"Delete\"\n",
    "    array_append = np.append(arr_1, arr_2, axis=0)\n",
    "    print(array_append)\n",
    "    print(\"----------\")\n",
    "    print(np.delete(array_append, 0, axis=0))\n",
    "array_of_delete()"
   ]
  },
  {
   "cell_type": "code",
   "execution_count": 116,
   "metadata": {},
   "outputs": [
    {
     "name": "stdout",
     "output_type": "stream",
     "text": [
      "(2, 3, 3)\n",
      "!----!\n",
      "[98]\n",
      "!----!\n",
      "[[[10 98 54]\n",
      "  [76  2 46]\n",
      "  [24 36 92]]\n",
      "\n",
      " [[45 63 82]\n",
      "  [11  2 57]\n",
      "  [54 19 45]]\n",
      "\n",
      " [[ 1  2  3]\n",
      "  [76  2 46]\n",
      "  [43 92 92]]]\n",
      "!----!\n",
      "816\n",
      "!----!\n",
      "29.11089906623367\n"
     ]
    }
   ],
   "source": [
    "arr1 = np.array([[\n",
    "    [10,98,54],\n",
    "    [76,2,46],\n",
    "    [24,36,92]\n",
    "],[\n",
    "    [45,63,82],\n",
    "    [11,2,57],\n",
    "    [54,19,45]\n",
    "]])\n",
    "arr2 = np.array([[\n",
    "    [1,2,3],\n",
    "    [76,2,46],\n",
    "    [43,92,92]\n",
    "]])\n",
    "print(arr1.shape)\n",
    "print('!----!')\n",
    "print(arr1[(arr1 >= 82) & (arr1 > 92)])\n",
    "print('!----!')\n",
    "print(np.concatenate((arr1, arr2)))\n",
    "print('!----!')\n",
    "print(arr1.sum())\n",
    "print('!----!')\n",
    "print(arr1.std())"
   ]
  },
  {
   "cell_type": "code",
   "execution_count": null,
   "metadata": {},
   "outputs": [],
   "source": []
  }
 ],
 "metadata": {
  "kernelspec": {
   "display_name": "Python 3",
   "language": "python",
   "name": "python3"
  },
  "language_info": {
   "codemirror_mode": {
    "name": "ipython",
    "version": 3
   },
   "file_extension": ".py",
   "mimetype": "text/x-python",
   "name": "python",
   "nbconvert_exporter": "python",
   "pygments_lexer": "ipython3",
   "version": "3.8.3"
  }
 },
 "nbformat": 4,
 "nbformat_minor": 4
}
