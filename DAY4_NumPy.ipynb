{
 "cells": [
  {
   "cell_type": "code",
   "execution_count": 2,
   "metadata": {},
   "outputs": [
    {
     "name": "stdout",
     "output_type": "stream",
     "text": [
      "Requirement already satisfied: numpy in c:\\users\\bri\\appdata\\roaming\\python\\python38\\site-packages (1.19.2)\n"
     ]
    }
   ],
   "source": [
    "!pip install numpy"
   ]
  },
  {
   "cell_type": "code",
   "execution_count": 7,
   "metadata": {},
   "outputs": [
    {
     "name": "stdout",
     "output_type": "stream",
     "text": [
      "pip 20.2.2 from D:\\Python\\anaconda3\\lib\\site-packages\\pip (python 3.8)\n",
      "\n"
     ]
    }
   ],
   "source": [
    "# !pip list\n",
    "!pip --version"
   ]
  },
  {
   "cell_type": "code",
   "execution_count": 2,
   "metadata": {},
   "outputs": [],
   "source": [
    "import numpy as np"
   ]
  },
  {
   "cell_type": "code",
   "execution_count": 35,
   "metadata": {},
   "outputs": [
    {
     "name": "stdout",
     "output_type": "stream",
     "text": [
      "[[1 2 3 4]\n",
      " [5 6 7 8]]\n",
      "8\n",
      "Type Data : int32\n",
      "Shape : (2, 4)\n",
      "Dimensi : 2\n"
     ]
    }
   ],
   "source": [
    "def array_numpy():\n",
    "    a = np.array([\n",
    "        [1, 2, 3, 4], \n",
    "        [5, 6, 7, 8]\n",
    "    ])\n",
    "    print(a)\n",
    "    print(a[-1][-1])\n",
    "    \"Type data of array\"\n",
    "    print(\"Type Data :\", a.dtype)\n",
    "    \"Shape of array\"\n",
    "    print(\"Shape :\", a.shape)\n",
    "    \"Dimensi of array\"\n",
    "    print(\"Dimensi :\", a.ndim)\n",
    "array_numpy()"
   ]
  },
  {
   "cell_type": "code",
   "execution_count": 42,
   "metadata": {},
   "outputs": [
    {
     "name": "stdout",
     "output_type": "stream",
     "text": [
      "10\n",
      "!--!\n",
      "[0. 0. 0. 0. 0. 0. 0. 0. 0. 0.]\n"
     ]
    }
   ],
   "source": [
    "def array_of_zeros():\n",
    "    print(np.array(10))\n",
    "    print(\"!--!\")\n",
    "    print(np.zeros(10))\n",
    "array_of_zeros()"
   ]
  },
  {
   "cell_type": "code",
   "execution_count": 46,
   "metadata": {},
   "outputs": [
    {
     "name": "stdout",
     "output_type": "stream",
     "text": [
      "[1. 1. 1. 1. 1. 1. 1. 1. 1. 1.]\n"
     ]
    }
   ],
   "source": [
    "def array_of_ones():\n",
    "    print(np.ones(10))\n",
    "array_of_ones()"
   ]
  },
  {
   "cell_type": "code",
   "execution_count": 57,
   "metadata": {},
   "outputs": [
    {
     "name": "stdout",
     "output_type": "stream",
     "text": [
      "[[7.42972961e-312 7.42973729e-312 3.49012913e-319 ... 5.30973833e+180\n",
      "  6.23102918e+228 6.02669591e+175]\n",
      " [1.77942356e+248 9.08366791e+223 1.07031539e-013 ... 2.18953536e+068\n",
      "  3.03426193e-086 1.81786144e+185]\n",
      " [6.68159286e+151 9.47212685e-154 2.16401696e-027 ... 2.54723493e+151\n",
      "  1.97641705e+166 3.18489929e-114]\n",
      " ...\n",
      " [0.00000000e+000 0.00000000e+000 0.00000000e+000 ... 0.00000000e+000\n",
      "  0.00000000e+000 0.00000000e+000]\n",
      " [0.00000000e+000 0.00000000e+000 0.00000000e+000 ... 0.00000000e+000\n",
      "  0.00000000e+000 0.00000000e+000]\n",
      " [0.00000000e+000 0.00000000e+000 0.00000000e+000 ... 0.00000000e+000\n",
      "  0.00000000e+000 0.00000000e+000]]\n"
     ]
    }
   ],
   "source": [
    "def array_of_empty():\n",
    "    print(np.empty((100, 100)))\n",
    "array_of_empty()"
   ]
  },
  {
   "cell_type": "code",
   "execution_count": 17,
   "metadata": {},
   "outputs": [
    {
     "name": "stdout",
     "output_type": "stream",
     "text": [
      "[20 22 24 26 28 30 32 34 36 38 40 42 44 46 48 50 52 54 56 58 60 62 64 66\n",
      " 68 70 72 74 76 78 80 82 84 86 88 90 92 94 96 98]\n"
     ]
    }
   ],
   "source": [
    "def array_of_arange():\n",
    "    \"start,stop,stop\"\n",
    "    print(np.arange(20, 100, 2))\n",
    "array_of_arange()"
   ]
  },
  {
   "cell_type": "code",
   "execution_count": 87,
   "metadata": {},
   "outputs": [
    {
     "name": "stdout",
     "output_type": "stream",
     "text": [
      "[['Ahmad' 'Verry' 'Setiawan']]\n",
      "(1, 3) (1, 3)\n",
      "['Ahmad' 'Verry' 'Setiawan' '17']\n",
      "[['Ahmad' 'Verry' 'Setiawan']\n",
      " ['17' '11' '94']]\n"
     ]
    }
   ],
   "source": [
    "def array_of_array():\n",
    "    arr_1 = np.array([[\"Ahmad\", \"Verry\", \"Setiawan\"]])\n",
    "    arr_2 = np.array([[17, 11, 94]])\n",
    "    print(arr_1)\n",
    "    \"Append\"\n",
    "    print(arr_1.shape, arr_2.shape)\n",
    "    print(np.append(arr_1, 17))\n",
    "    print(np.append(arr_1, arr_2, axis=0))\n",
    "array_of_array()"
   ]
  },
  {
   "cell_type": "code",
   "execution_count": 85,
   "metadata": {},
   "outputs": [
    {
     "name": "stdout",
     "output_type": "stream",
     "text": [
      "['Ahmad' 'Verry' 'Setiawan' '17' '11' '94']\n",
      "----------\n",
      "['Verry' 'Setiawan' '17' '11' '94']\n"
     ]
    }
   ],
   "source": [
    "def array_of_delete():\n",
    "    arr_1 = np.array([\"Ahmad\", \"Verry\", \"Setiawan\"])\n",
    "    arr_2 = np.array([17, 11, 94])\n",
    "    \"Delete\"\n",
    "    array_append = np.append(arr_1, arr_2, axis=0)\n",
    "    print(array_append)\n",
    "    print(\"----------\")\n",
    "    print(np.delete(array_append, 0, axis=0))\n",
    "array_of_delete()"
   ]
  },
  {
   "cell_type": "code",
   "execution_count": 116,
   "metadata": {},
   "outputs": [
    {
     "name": "stdout",
     "output_type": "stream",
     "text": [
      "(2, 3, 3)\n",
      "!----!\n",
      "[98]\n",
      "!----!\n",
      "[[[10 98 54]\n",
      "  [76  2 46]\n",
      "  [24 36 92]]\n",
      "\n",
      " [[45 63 82]\n",
      "  [11  2 57]\n",
      "  [54 19 45]]\n",
      "\n",
      " [[ 1  2  3]\n",
      "  [76  2 46]\n",
      "  [43 92 92]]]\n",
      "!----!\n",
      "816\n",
      "!----!\n",
      "29.11089906623367\n"
     ]
    }
   ],
   "source": [
    "arr1 = np.array([[\n",
    "    [10,98,54],\n",
    "    [76,2,46],\n",
    "    [24,36,92]\n",
    "],[\n",
    "    [45,63,82],\n",
    "    [11,2,57],\n",
    "    [54,19,45]\n",
    "]])\n",
    "arr2 = np.array([[\n",
    "    [1,2,3],\n",
    "    [76,2,46],\n",
    "    [43,92,92]\n",
    "]])\n",
    "print(arr1.shape)\n",
    "print('!----!')\n",
    "print(arr1[(arr1 >= 82) & (arr1 > 92)])\n",
    "print('!----!')\n",
    "print(np.concatenate((arr1, arr2)))\n",
    "print('!----!')\n",
    "print(arr1.sum())\n",
    "print('!----!')\n",
    "print(arr1.std())"
   ]
  },
  {
   "cell_type": "code",
   "execution_count": 32,
   "metadata": {},
   "outputs": [
    {
     "name": "stdout",
     "output_type": "stream",
     "text": [
      "(20, 1)\n",
      "(10, 2)\n",
      "(10, 2)\n",
      "[[0.005 0.015 0.025 0.035 0.045 0.055 0.065 0.075 0.085 0.095]\n",
      " [0.015 0.065 0.115 0.165 0.215 0.265 0.315 0.365 0.415 0.465]\n",
      " [0.025 0.115 0.205 0.295 0.385 0.475 0.565 0.655 0.745 0.835]\n",
      " [0.035 0.165 0.295 0.425 0.555 0.685 0.815 0.945 1.075 1.205]\n",
      " [0.045 0.215 0.385 0.555 0.725 0.895 1.065 1.235 1.405 1.575]\n",
      " [0.055 0.265 0.475 0.685 0.895 1.105 1.315 1.525 1.735 1.945]\n",
      " [0.065 0.315 0.565 0.815 1.065 1.315 1.565 1.815 2.065 2.315]\n",
      " [0.075 0.365 0.655 0.945 1.235 1.525 1.815 2.105 2.395 2.685]\n",
      " [0.085 0.415 0.745 1.075 1.405 1.735 2.065 2.395 2.725 3.055]\n",
      " [0.095 0.465 0.835 1.205 1.575 1.945 2.315 2.685 3.055 3.425]] (10, 10)\n"
     ]
    }
   ],
   "source": [
    "pre_test_1 = np.arange(0, 1, 5e-2)[:, None]\n",
    "print(pre_test_1.shape)\n",
    "pre_test_2 = pre_test_1.reshape(10,2)\n",
    "print(pre_test_2.shape)\n",
    "pre_test_3 = pre_test_2.dot(2)\n",
    "print(pre_test_3.shape)\n",
    "pre_test_4 = np.matmul(pre_test_2, pre_test_3.T)\n",
    "print(pre_test_4, pre_test_4.shape)"
   ]
  },
  {
   "cell_type": "code",
   "execution_count": 35,
   "metadata": {},
   "outputs": [
    {
     "name": "stdout",
     "output_type": "stream",
     "text": [
      "[0.05 0.24 0.43 0.62 0.81 1.   1.19 1.38 1.57 1.76]\n",
      "[0.05 0.24 0.43 0.62 0.81 1.   1.19 1.38 1.57 1.76]\n",
      "[0.02872281 0.14361407 0.25850532 0.37339657 0.48828782 0.60317908\n",
      " 0.71807033 0.83296158 0.94785284 1.06274409] [8.250000e-04 2.062500e-02 6.682500e-02 1.394250e-01 2.384250e-01\n",
      " 3.638250e-01 5.156250e-01 6.938250e-01 8.984250e-01 1.129425e+00]\n"
     ]
    }
   ],
   "source": [
    "mm_mean = pre_test_4.mean(axis=0)\n",
    "print(mm_mean)\n",
    "mm_median = np.median(pre_test_4, axis=0)\n",
    "print(mm_median)\n",
    "print(pre_test_4.std(axis=0), pre_test_4.var(axis=0))"
   ]
  },
  {
   "cell_type": "code",
   "execution_count": 78,
   "metadata": {},
   "outputs": [
    {
     "name": "stdout",
     "output_type": "stream",
     "text": [
      "[[9 6]\n",
      " [3 7]\n",
      " [2 6]]\n",
      "[[0.74235771 0.32312984]\n",
      " [0.1704043  0.46273633]\n",
      " [0.14615887 0.67988835]]\n",
      "[[ 7.4768554   7.91381242]\n",
      " [ 2.56402993 -1.17446226]\n",
      " [-2.4571494  -1.5634193 ]]\n"
     ]
    }
   ],
   "source": [
    "rand_int = np.random.randint(1, 10, size=(3,2))\n",
    "print(rand_int)\n",
    "rand_uniform = np.random.uniform(size=(3,2))\n",
    "print(rand_uniform)\n",
    "rand_normal = np.random.normal(1, 5, size=(3,2))\n",
    "print(rand_normal)"
   ]
  },
  {
   "cell_type": "code",
   "execution_count": null,
   "metadata": {},
   "outputs": [],
   "source": []
  },
  {
   "cell_type": "code",
   "execution_count": null,
   "metadata": {},
   "outputs": [],
   "source": []
  },
  {
   "cell_type": "code",
   "execution_count": null,
   "metadata": {},
   "outputs": [],
   "source": []
  }
 ],
 "metadata": {
  "kernelspec": {
   "display_name": "Python 3",
   "language": "python",
   "name": "python3"
  },
  "language_info": {
   "codemirror_mode": {
    "name": "ipython",
    "version": 3
   },
   "file_extension": ".py",
   "mimetype": "text/x-python",
   "name": "python",
   "nbconvert_exporter": "python",
   "pygments_lexer": "ipython3",
   "version": "3.8.3"
  }
 },
 "nbformat": 4,
 "nbformat_minor": 4
}
