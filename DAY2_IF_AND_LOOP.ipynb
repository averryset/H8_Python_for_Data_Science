{
 "cells": [
  {
   "cell_type": "code",
   "execution_count": 17,
   "metadata": {},
   "outputs": [
    {
     "name": "stdout",
     "output_type": "stream",
     "text": [
      "Salah\n"
     ]
    }
   ],
   "source": [
    "x=11\n",
    "y=11\n",
    "\n",
    "if x > y :\n",
    "    print(\"Benar\")\n",
    "else:\n",
    "    print(\"Salah\")\n",
    "        "
   ]
  },
  {
   "cell_type": "code",
   "execution_count": 25,
   "metadata": {},
   "outputs": [
    {
     "name": "stdout",
     "output_type": "stream",
     "text": [
      "True\n"
     ]
    }
   ],
   "source": [
    "list = [1,2,3,4,5]\n",
    "if 10 in list:\n",
    "    print('Ada Dalam List')\n",
    "elif 1 in list:\n",
    "    print('True')\n",
    "else:\n",
    "    print('Tidak Ada Dalam List')"
   ]
  },
  {
   "cell_type": "code",
   "execution_count": 31,
   "metadata": {},
   "outputs": [
    {
     "name": "stdout",
     "output_type": "stream",
     "text": [
      "Benar Saya\n"
     ]
    }
   ],
   "source": [
    "name = 'Saya'\n",
    "\n",
    "if name == 'Saya':print('Benar Saya');\n",
    "elif name == 'saya':print('Salah saya')"
   ]
  },
  {
   "cell_type": "code",
   "execution_count": 32,
   "metadata": {},
   "outputs": [
    {
     "name": "stdout",
     "output_type": "stream",
     "text": [
      "Ada\n"
     ]
    }
   ],
   "source": [
    "ternari_condition = \"Ada\" if 1 in list else 'Tidak Ada'\n",
    "print(ternari_condition)"
   ]
  },
  {
   "cell_type": "code",
   "execution_count": 51,
   "metadata": {},
   "outputs": [
    {
     "name": "stdout",
     "output_type": "stream",
     "text": [
      "5\n",
      "4\n",
      "3\n",
      "Loop Stop !\n"
     ]
    }
   ],
   "source": [
    "len_list = len(list)\n",
    "while len_list > 0:\n",
    "    len_list -= 1\n",
    "    print(list[len_list])\n",
    "    if len_list == 2:\n",
    "        break\n",
    "print('Loop Stop !')"
   ]
  },
  {
   "cell_type": "code",
   "execution_count": 6,
   "metadata": {},
   "outputs": [
    {
     "name": "stdout",
     "output_type": "stream",
     "text": [
      "10 is even\n",
      "9 is odd and not\n",
      "7 is odd and not\n",
      "6 is even\n",
      "4 is even\n",
      "3 is odd and not\n",
      "1 is odd and not\n"
     ]
    }
   ],
   "source": [
    "nilai = 10 \n",
    "while nilai > 0:\n",
    "    if(nilai+1) % 3 == 0:\n",
    "        nilai -= 1\n",
    "        continue\n",
    "    elif nilai % 2 == 0:\n",
    "        print(nilai, \"is even\")\n",
    "    else:\n",
    "        print(nilai, \"is odd and not\")\n",
    "    nilai -= 1"
   ]
  },
  {
   "cell_type": "code",
   "execution_count": 16,
   "metadata": {},
   "outputs": [
    {
     "name": "stdout",
     "output_type": "stream",
     "text": [
      "{'satu': 1, 'dua': 2, 'tiga': 3}\n",
      "satu\n",
      "dua\n",
      "tiga\n"
     ]
    }
   ],
   "source": [
    "my_dict = {\n",
    "    \"satu\":1,\n",
    "    \"dua\":2,\n",
    "    \"tiga\":3\n",
    "}\n",
    "print(my_dict)\n",
    "\n",
    "for i in my_dict:\n",
    "    print(i)"
   ]
  },
  {
   "cell_type": "code",
   "execution_count": 22,
   "metadata": {},
   "outputs": [
    {
     "name": "stdout",
     "output_type": "stream",
     "text": [
      "1 2 3\n",
      "Foo Bar Baz\n"
     ]
    }
   ],
   "source": [
    "nested_list = [\n",
    "    [1, 2, 3],\n",
    "    [\"Foo\", \"Bar\", \"Baz\"]\n",
    "]\n",
    "for i, j, k in nested_list:\n",
    "    print(i, j, k)"
   ]
  },
  {
   "cell_type": "code",
   "execution_count": 23,
   "metadata": {},
   "outputs": [
    {
     "name": "stdout",
     "output_type": "stream",
     "text": [
      "[0,0]= 1\n",
      "[0,1]= 2\n",
      "[0,2]= 3\n",
      "[1,0]= Foo\n",
      "[1,1]= Bar\n",
      "[1,2]= Baz\n"
     ]
    }
   ],
   "source": [
    "for i in range(len(nested_list)):\n",
    "    for j in range(len(nested_list[i])):\n",
    "        print(f\"[{i},{j}]= {nested_list[i][j]}\")   # f-string literal"
   ]
  },
  {
   "cell_type": "code",
   "execution_count": null,
   "metadata": {},
   "outputs": [],
   "source": []
  }
 ],
 "metadata": {
  "kernelspec": {
   "display_name": "Python 3",
   "language": "python",
   "name": "python3"
  },
  "language_info": {
   "codemirror_mode": {
    "name": "ipython",
    "version": 3
   },
   "file_extension": ".py",
   "mimetype": "text/x-python",
   "name": "python",
   "nbconvert_exporter": "python",
   "pygments_lexer": "ipython3",
   "version": "3.8.3"
  }
 },
 "nbformat": 4,
 "nbformat_minor": 4
}
