{
 "cells": [
  {
   "cell_type": "code",
   "execution_count": 17,
   "metadata": {},
   "outputs": [
    {
     "name": "stdout",
     "output_type": "stream",
     "text": [
      "Salah\n"
     ]
    }
   ],
   "source": [
    "x=11\n",
    "y=11\n",
    "\n",
    "if x > y :\n",
    "    print(\"Benar\")\n",
    "else:\n",
    "    print(\"Salah\")\n",
    "        "
   ]
  },
  {
   "cell_type": "code",
   "execution_count": 25,
   "metadata": {},
   "outputs": [
    {
     "name": "stdout",
     "output_type": "stream",
     "text": [
      "True\n"
     ]
    }
   ],
   "source": [
    "list = [1,2,3,4,5]\n",
    "if 10 in list:\n",
    "    print('Ada Dalam List')\n",
    "elif 1 in list:\n",
    "    print('True')\n",
    "else:\n",
    "    print('Tidak Ada Dalam List')"
   ]
  },
  {
   "cell_type": "code",
   "execution_count": 31,
   "metadata": {},
   "outputs": [
    {
     "name": "stdout",
     "output_type": "stream",
     "text": [
      "Benar Saya\n"
     ]
    }
   ],
   "source": [
    "name = 'Saya'\n",
    "\n",
    "if name == 'Saya':print('Benar Saya');\n",
    "elif name == 'saya':print('Salah saya')"
   ]
  },
  {
   "cell_type": "code",
   "execution_count": 32,
   "metadata": {},
   "outputs": [
    {
     "name": "stdout",
     "output_type": "stream",
     "text": [
      "Ada\n"
     ]
    }
   ],
   "source": [
    "ternari_condition = \"Ada\" if 1 in list else 'Tidak Ada'\n",
    "print(ternari_condition)"
   ]
  },
  {
   "cell_type": "code",
   "execution_count": 51,
   "metadata": {},
   "outputs": [
    {
     "name": "stdout",
     "output_type": "stream",
     "text": [
      "5\n",
      "4\n",
      "3\n",
      "Loop Stop !\n"
     ]
    }
   ],
   "source": [
    "len_list = len(list)\n",
    "while len_list > 0:\n",
    "    len_list -= 1\n",
    "    print(list[len_list])\n",
    "    if len_list == 2:\n",
    "        break\n",
    "print('Loop Stop !')"
   ]
  },
  {
   "cell_type": "code",
   "execution_count": null,
   "metadata": {},
   "outputs": [],
   "source": []
  }
 ],
 "metadata": {
  "kernelspec": {
   "display_name": "Python 3",
   "language": "python",
   "name": "python3"
  },
  "language_info": {
   "codemirror_mode": {
    "name": "ipython",
    "version": 3
   },
   "file_extension": ".py",
   "mimetype": "text/x-python",
   "name": "python",
   "nbconvert_exporter": "python",
   "pygments_lexer": "ipython3",
   "version": "3.8.3"
  }
 },
 "nbformat": 4,
 "nbformat_minor": 4
}
